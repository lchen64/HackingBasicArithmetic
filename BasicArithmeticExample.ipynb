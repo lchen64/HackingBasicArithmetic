{
 "cells": [
  {
   "cell_type": "code",
   "execution_count": 33,
   "id": "4054bb99",
   "metadata": {},
   "outputs": [],
   "source": [
    "class hand:\n",
    "    def __init__(self,fingers):\n",
    "    \tself.fingers = fingers\n",
    "        \n",
    "def count(x,y):\n",
    "\treturn x.fingers+y\n",
    "\n",
    "def raise_hand(num, hand):\n",
    "\thand.fingers = num\n",
    "\n",
    "def sum(a1,a2):\n",
    "\n",
    "    LeftHand = hand(0)\n",
    "    RightHand = hand(0)\n",
    "    raise_hand(a1, LeftHand)\n",
    "    raise_hand(a2, RightHand)\n",
    "    y = count(LeftHand, 0)\n",
    "    s = count(RightHand,y)\n",
    "\n",
    "    return s"
   ]
  },
  {
   "cell_type": "code",
   "execution_count": 34,
   "id": "fa91cae4",
   "metadata": {},
   "outputs": [
    {
     "name": "stdout",
     "output_type": "stream",
     "text": [
      "7\n"
     ]
    }
   ],
   "source": [
    "print(sum(2,5))"
   ]
  },
  {
   "cell_type": "code",
   "execution_count": 39,
   "id": "c0983392",
   "metadata": {},
   "outputs": [],
   "source": [
    "def raiseCount(num1, hand, num2):\n",
    "    hand.fingers = num1\n",
    "    hand.fingers+=num2\n",
    "    return hand.fingers\n",
    "\n",
    "def shortcutSum(a1,a2):\n",
    "    \n",
    "    LeftHand = hand(0)\n",
    "    RightHand = hand(0)\n",
    "    y = raiseCount(a1, LeftHand, 0)\n",
    "    s = raiseCount(a2, RightHand, a1)\n",
    "    \n",
    "    return s"
   ]
  },
  {
   "cell_type": "code",
   "execution_count": 40,
   "id": "01d070ee",
   "metadata": {},
   "outputs": [
    {
     "name": "stdout",
     "output_type": "stream",
     "text": [
      "7\n"
     ]
    }
   ],
   "source": [
    "shortcutSum(2,5)"
   ]
  },
  {
   "cell_type": "code",
   "execution_count": 44,
   "id": "224e8093",
   "metadata": {},
   "outputs": [
    {
     "name": "stdout",
     "output_type": "stream",
     "text": [
      "7\n"
     ]
    }
   ],
   "source": [
    "def countFromFirst(a1,a2):\n",
    "    LeftHand = hand(0)\n",
    "    RightHand = hand(0)\n",
    "    sum = raiseCount(a2,LeftHand,a1)\n",
    "    return sum\n",
    "\n",
    "print(countfromFirst(2,5))"
   ]
  },
  {
   "cell_type": "code",
   "execution_count": 45,
   "id": "69e6920c",
   "metadata": {},
   "outputs": [
    {
     "name": "stdout",
     "output_type": "stream",
     "text": [
      "7\n"
     ]
    }
   ],
   "source": [
    "def min(a1,a2):\n",
    "    if a1>a2:\n",
    "        return countFromFirst(a2,a1)\n",
    "    else:\n",
    "        return countFromFirst(a1,a2)\n",
    "print(min(2,5))"
   ]
  }
 ],
 "metadata": {
  "kernelspec": {
   "display_name": "Python 3 (ipykernel)",
   "language": "python",
   "name": "python3"
  },
  "language_info": {
   "codemirror_mode": {
    "name": "ipython",
    "version": 3
   },
   "file_extension": ".py",
   "mimetype": "text/x-python",
   "name": "python",
   "nbconvert_exporter": "python",
   "pygments_lexer": "ipython3",
   "version": "3.9.13"
  }
 },
 "nbformat": 4,
 "nbformat_minor": 5
}
